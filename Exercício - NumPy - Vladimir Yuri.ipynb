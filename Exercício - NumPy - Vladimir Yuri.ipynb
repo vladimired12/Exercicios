{
 "cells": [
  {
   "cell_type": "markdown",
   "metadata": {},
   "source": [
    "# Introdução à Ciência de Dados - UFPB\n",
    "Professor: Yuri Malheiros\n",
    "\n",
    "## NumPy"
   ]
  },
  {
   "cell_type": "markdown",
   "metadata": {},
   "source": [
    "Implemente a função `distance` abaixo. Ela deve receber dois pontos e retornar a distância euclidiana entre eles. Cada ponto é representado por um array do NumPy, por exemplo, `p1 = np.array([2,4])` representa o ponto com coordenadas x=2 e y=2."
   ]
  },
  {
   "cell_type": "code",
   "execution_count": 3,
   "metadata": {},
   "outputs": [
    {
     "name": "stdout",
     "output_type": "stream",
     "text": [
      "1.4142135623730951\n",
      "2.8284271247461903\n",
      "7.615773105863909\n"
     ]
    }
   ],
   "source": [
    "import numpy as np\n",
    "import math \n",
    "\n",
    "def distance(p1, p2):\n",
    "    \"\"\"\n",
    "    >>> distance(np.array([0,0]), np.array([1,1]))\n",
    "    1.4142135623730951\n",
    "    \n",
    "    >>> distance(np.array([1,2]), np.array([3,4]))\n",
    "    2.8284271247461903\n",
    "    \n",
    "    >>> distance(np.array([5,2]), np.array([-2,-1]))\n",
    "    7.615773105863909\n",
    "    \"\"\"\n",
    "\n",
    "    # ADICIONE O SEU CÓDIGO AQUI\n",
    "    diferença = p1 - p2\n",
    "    \n",
    "    quadrado_dif = np.dot(diferença, diferença)\n",
    "    \n",
    "    distancia = math.sqrt(quadrado_dif)\n",
    "    \n",
    "    return distancia\n",
    "\n",
    "print (distance(np.array([0,0]), np.array([1,1])))\n",
    "print (distance(np.array([1,2]), np.array([3,4])))\n",
    "print (distance(np.array([5,2]), np.array([-2,-1])))\n"
   ]
  },
  {
   "cell_type": "markdown",
   "metadata": {},
   "source": [
    "Implemente a função `n_distances` abaixo. Ela recebe um ponto (`p1`), como um array do NumPy, e uma lista de pontos (`points`), uma matriz do NumPy, onde cada linha representa um ponto.\n",
    "\n",
    "Esta função deve retornar a distância de `p1` para todos os pontos da matriz `points`. O retorno também é uma matriz, onde cada linha tem a distância de `p1` para o ponto daquela linha."
   ]
  },
  {
   "cell_type": "code",
   "execution_count": 109,
   "metadata": {},
   "outputs": [
    {
     "name": "stdout",
     "output_type": "stream",
     "text": [
      "1.4142135623730951\n",
      "[]\n",
      "1.4142135623730951\n",
      "2.8284271247461903\n",
      "[]\n",
      "3.605551275463989\n",
      "1.4142135623730951\n",
      "4.0\n",
      "9.055385138137417\n",
      "7.615773105863909\n",
      "[]\n"
     ]
    }
   ],
   "source": [
    "import numpy as np\n",
    "import math\n",
    "\n",
    "def n_distances(p1, points):\n",
    "    \n",
    "    \"\"\"\n",
    "    >>> n_distances(np.array([0,0]), np.array([[1,1]]))\n",
    "    array([1.41421356])\n",
    "    \n",
    "    >>> n_distances('np.array([0,0]), np.array([[1,1], [2,2]]'))\n",
    "    array([1.41421356, 2.82842712])\n",
    "    \n",
    "    >>> n_distances(np.array([1,2]), np.array([[3,-1], [2,1], [5, 2], [10, 1], [-2, -5]]))\n",
    "    array([3.60555128, 1.41421356, 4.        , 9.05538514, 7.61577311])\n",
    "    \"\"\"\n",
    "    \n",
    "    # ADICIONE O SEU CÓDIGO AQUI\n",
    "    \n",
    "    diferença = p1 - points\n",
    "    \n",
    "    a = np.array([])\n",
    "    \n",
    "    \n",
    "    for i in range(len(diferença)):\n",
    "        raiz =  math.sqrt(np.dot(diferença[i], diferença[i]))\n",
    "        print(raiz)\n",
    "        #Eu não sei porque o np.append não está adicionando o valor no array vazio \"a\", pra mim a lógica está certa e isso não faz sentido\n",
    "        np.append(a,raiz)\n",
    "    \n",
    "    print (a)\n",
    "            \n",
    "\n",
    "n_distances(np.array([0,0]), np.array([[1,1]]))\n",
    "n_distances(np.array([0,0]), np.array([[1,1], [2,2]]))\n",
    "n_distances(np.array([1,2]), np.array([[3,-1], [2,1], [5, 2], [10, 1], [-2, -5]]))\n",
    "                   \n",
    "\n",
    "        "
   ]
  },
  {
   "cell_type": "markdown",
   "metadata": {},
   "source": [
    "## Teste"
   ]
  },
  {
   "cell_type": "code",
   "execution_count": 110,
   "metadata": {},
   "outputs": [
    {
     "name": "stdout",
     "output_type": "stream",
     "text": [
      "Trying:\n",
      "    distance(np.array([0,0]), np.array([1,1]))\n",
      "Expecting:\n",
      "    1.4142135623730951\n",
      "ok\n",
      "Trying:\n",
      "    distance(np.array([1,2]), np.array([3,4]))\n",
      "Expecting:\n",
      "    2.8284271247461903\n",
      "ok\n",
      "Trying:\n",
      "    distance(np.array([5,2]), np.array([-2,-1]))\n",
      "Expecting:\n",
      "    7.615773105863909\n",
      "ok\n",
      "Trying:\n",
      "    n_distances(np.array([0,0]), np.array([[1,1]]))\n",
      "Expecting:\n",
      "    array([1.41421356])\n",
      "**********************************************************************\n",
      "File \"__main__\", line 6, in __main__.n_distances\n",
      "Failed example:\n",
      "    n_distances(np.array([0,0]), np.array([[1,1]]))\n",
      "Expected:\n",
      "    array([1.41421356])\n",
      "Got:\n",
      "    1.4142135623730951\n",
      "    []\n",
      "Trying:\n",
      "    n_distances('np.array([0,0]), np.array([[1,1], [2,2]]'))\n",
      "Expecting:\n",
      "    array([1.41421356, 2.82842712])\n",
      "**********************************************************************\n",
      "File \"__main__\", line 9, in __main__.n_distances\n",
      "Failed example:\n",
      "    n_distances('np.array([0,0]), np.array([[1,1], [2,2]]'))\n",
      "Exception raised:\n",
      "    Traceback (most recent call last):\n",
      "      File \"c:\\users\\vladimir\\appdata\\local\\programs\\python\\python37\\lib\\doctest.py\", line 1329, in __run\n",
      "        compileflags, 1), test.globs)\n",
      "      File \"<doctest __main__.n_distances[1]>\", line 1\n",
      "        n_distances('np.array([0,0]), np.array([[1,1], [2,2]]'))\n",
      "                                                               ^\n",
      "    SyntaxError: invalid syntax\n",
      "Trying:\n",
      "    n_distances(np.array([1,2]), np.array([[3,-1], [2,1], [5, 2], [10, 1], [-2, -5]]))\n",
      "Expecting:\n",
      "    array([3.60555128, 1.41421356, 4.        , 9.05538514, 7.61577311])\n",
      "**********************************************************************\n",
      "File \"__main__\", line 12, in __main__.n_distances\n",
      "Failed example:\n",
      "    n_distances(np.array([1,2]), np.array([[3,-1], [2,1], [5, 2], [10, 1], [-2, -5]]))\n",
      "Expected:\n",
      "    array([3.60555128, 1.41421356, 4.        , 9.05538514, 7.61577311])\n",
      "Got:\n",
      "    3.605551275463989\n",
      "    1.4142135623730951\n",
      "    4.0\n",
      "    9.055385138137417\n",
      "    7.615773105863909\n",
      "    []\n",
      "1 items had no tests:\n",
      "    __main__\n",
      "1 items passed all tests:\n",
      "   3 tests in __main__.distance\n",
      "**********************************************************************\n",
      "1 items had failures:\n",
      "   3 of   3 in __main__.n_distances\n",
      "6 tests in 3 items.\n",
      "3 passed and 3 failed.\n",
      "***Test Failed*** 3 failures.\n"
     ]
    },
    {
     "data": {
      "text/plain": [
       "TestResults(failed=3, attempted=6)"
      ]
     },
     "execution_count": 110,
     "metadata": {},
     "output_type": "execute_result"
    }
   ],
   "source": [
    "import doctest\n",
    "\n",
    "doctest.testmod(verbose=True)"
   ]
  },
  {
   "cell_type": "code",
   "execution_count": null,
   "metadata": {},
   "outputs": [],
   "source": []
  },
  {
   "cell_type": "code",
   "execution_count": null,
   "metadata": {},
   "outputs": [],
   "source": []
  },
  {
   "cell_type": "code",
   "execution_count": null,
   "metadata": {},
   "outputs": [],
   "source": []
  }
 ],
 "metadata": {
  "kernelspec": {
   "display_name": "Python 3",
   "language": "python",
   "name": "python3"
  },
  "language_info": {
   "codemirror_mode": {
    "name": "ipython",
    "version": 3
   },
   "file_extension": ".py",
   "mimetype": "text/x-python",
   "name": "python",
   "nbconvert_exporter": "python",
   "pygments_lexer": "ipython3",
   "version": "3.7.3"
  }
 },
 "nbformat": 4,
 "nbformat_minor": 4
}
